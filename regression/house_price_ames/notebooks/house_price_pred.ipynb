{
 "cells": [
  {
   "cell_type": "markdown",
   "id": "210b768a",
   "metadata": {},
   "source": [
    "## This notebook is about Exploratory Data Analysis of the 'ames housing' dataset"
   ]
  },
  {
   "cell_type": "markdown",
   "id": "5443a2d6",
   "metadata": {},
   "source": [
    "### Import required libs"
   ]
  },
  {
   "cell_type": "code",
   "execution_count": 5,
   "id": "f058ceb6",
   "metadata": {},
   "outputs": [],
   "source": [
    "import pandas as pd\n",
    "\n",
    "from viz import bar, box, corrTable, heatMap, hist, scatter"
   ]
  },
  {
   "cell_type": "markdown",
   "id": "f6680264",
   "metadata": {},
   "source": [
    "### Load & Analyze the dataset"
   ]
  },
  {
   "cell_type": "code",
   "execution_count": 6,
   "id": "1661ec7a",
   "metadata": {},
   "outputs": [
    {
     "name": "stdout",
     "output_type": "stream",
     "text": [
      "ames_raw -> 2930 rows × 82 columns\n",
      "ames_after -> 2930 rows × 121 columns\n"
     ]
    }
   ],
   "source": [
    "# before executing intake.py (raw-data)\n",
    "ames_raw = pd.read_csv(r\"D:\\Languages\\Projects\\ml-portfolio\\regression\\house_price_ames\\data\\raw\\AmesHousing.csv\")\n",
    "print(f'ames_raw -> {ames_raw.shape[0]} rows × {ames_raw.shape[1]} columns')\n",
    "\n",
    "# after executing intake.py (cleaned-data)\n",
    "ames_after = pd.read_csv(r\"D:\\Languages\\Projects\\ml-portfolio\\regression\\house_price_ames\\data\\processed\\ames_cleaned.csv\")\n",
    "print(f'ames_after -> {ames_after.shape[0]} rows × {ames_after.shape[1]} columns')"
   ]
  },
  {
   "cell_type": "markdown",
   "id": "0b0015db",
   "metadata": {},
   "source": [
    "##### Processed data shows 39 additional columns.  \n",
    "##### Let’s verify how many columns were truly added/removed by comparing the sets of column names."
   ]
  },
  {
   "cell_type": "code",
   "execution_count": 7,
   "id": "def925e6",
   "metadata": {},
   "outputs": [
    {
     "name": "stdout",
     "output_type": "stream",
     "text": [
      "Added: 108\n",
      "Removed: 69\n",
      "Common: 13\n"
     ]
    }
   ],
   "source": [
    "raw_cols = set(ames_raw.columns)\n",
    "after_cols = set(ames_after.columns)\n",
    "\n",
    "added = after_cols - raw_cols\n",
    "removed = raw_cols - after_cols\n",
    "common = raw_cols & after_cols\n",
    "\n",
    "print(\"Added:\", len(added))\n",
    "print(\"Removed:\", len(removed))\n",
    "print(\"Common:\", len(common))"
   ]
  },
  {
   "cell_type": "markdown",
   "id": "b18daa24",
   "metadata": {},
   "source": [
    "##### That’s quite a large number of removed columns. This is likely due to name cleaning in intake.py. Let’s normalize the column names to see the actual differences."
   ]
  },
  {
   "cell_type": "code",
   "execution_count": 8,
   "id": "0952ed6e",
   "metadata": {},
   "outputs": [
    {
     "name": "stdout",
     "output_type": "stream",
     "text": [
      "Added: 39\n",
      "Removed: 0\n",
      "Common: 82\n"
     ]
    }
   ],
   "source": [
    "def normalize_cols(cols):\n",
    "    return [c.strip().replace(\" \", \"_\").replace(\"-\", \"_\") for c in cols]\n",
    "\n",
    "raw_cols_norm = normalize_cols(ames_raw.columns)\n",
    "after_cols_norm = normalize_cols(ames_after.columns)\n",
    "\n",
    "added = [c for c in after_cols_norm if c not in raw_cols_norm]\n",
    "removed = [c for c in raw_cols_norm if c not in after_cols_norm]\n",
    "common = [c for c in raw_cols_norm if c in after_cols_norm]\n",
    "\n",
    "print(\"Added:\", len(added))\n",
    "print(\"Removed:\", len(removed))\n",
    "print(\"Common:\", len(common))"
   ]
  },
  {
   "cell_type": "markdown",
   "id": "522bc3d5",
   "metadata": {},
   "source": [
    "##### After aligning the naming conventions, it’s clear that all 82 original features are still present. In addition, 39 new engineered features were added, most of them is the \"<<col>col>_is_outlier\" flags."
   ]
  }
 ],
 "metadata": {
  "kernelspec": {
   "display_name": ".venv (3.11.9)",
   "language": "python",
   "name": "python3"
  },
  "language_info": {
   "codemirror_mode": {
    "name": "ipython",
    "version": 3
   },
   "file_extension": ".py",
   "mimetype": "text/x-python",
   "name": "python",
   "nbconvert_exporter": "python",
   "pygments_lexer": "ipython3",
   "version": "3.11.9"
  }
 },
 "nbformat": 4,
 "nbformat_minor": 5
}
