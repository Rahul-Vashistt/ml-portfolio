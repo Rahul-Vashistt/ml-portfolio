{
 "cells": [
  {
   "cell_type": "markdown",
   "id": "210b768a",
   "metadata": {},
   "source": [
    "## This notebook is about Exploratory Data Analysis onto the 'ames housing' dataset"
   ]
  },
  {
   "cell_type": "markdown",
   "id": "5443a2d6",
   "metadata": {},
   "source": [
    "### Importing required libs"
   ]
  },
  {
   "cell_type": "code",
   "execution_count": 43,
   "id": "f058ceb6",
   "metadata": {},
   "outputs": [],
   "source": [
    "import pandas as pd\n",
    "import numpy as np\n",
    "\n",
    "from viz import bar, box, corrTable, heatMap, hist, scatter"
   ]
  },
  {
   "cell_type": "code",
   "execution_count": null,
   "id": "04ad3a8d",
   "metadata": {},
   "outputs": [
    {
     "data": {
      "text/plain": [
       "(2930, 82)"
      ]
     },
     "execution_count": 38,
     "metadata": {},
     "output_type": "execute_result"
    }
   ],
   "source": [
    "import pandas as pd\n",
    "\n",
    "ames = pd.read_csv(r\"D:\\Languages\\Projects\\ml-portfolio\\regression\\house_price_ames\\data\\raw\\AmesHousing.csv\")\n",
    "ames.shape"
   ]
  },
  {
   "cell_type": "code",
   "execution_count": null,
   "id": "def925e6",
   "metadata": {},
   "outputs": [],
   "source": []
  }
 ],
 "metadata": {
  "kernelspec": {
   "display_name": ".venv (3.11.9)",
   "language": "python",
   "name": "python3"
  },
  "language_info": {
   "codemirror_mode": {
    "name": "ipython",
    "version": 3
   },
   "file_extension": ".py",
   "mimetype": "text/x-python",
   "name": "python",
   "nbconvert_exporter": "python",
   "pygments_lexer": "ipython3",
   "version": "3.11.9"
  }
 },
 "nbformat": 4,
 "nbformat_minor": 5
}
